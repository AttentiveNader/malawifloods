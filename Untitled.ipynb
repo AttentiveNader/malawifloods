{
 "cells": [
  {
   "cell_type": "code",
   "execution_count": 1,
   "metadata": {},
   "outputs": [],
   "source": [
    "import numpy as np \n",
    "import pandas as pd"
   ]
  },
  {
   "cell_type": "code",
   "execution_count": 2,
   "metadata": {},
   "outputs": [],
   "source": [
    "arr = np.array([[1,2,3]])"
   ]
  },
  {
   "cell_type": "code",
   "execution_count": 3,
   "metadata": {},
   "outputs": [
    {
     "data": {
      "text/plain": [
       "(1, 3)"
      ]
     },
     "execution_count": 3,
     "metadata": {},
     "output_type": "execute_result"
    }
   ],
   "source": [
    "arr.shape"
   ]
  },
  {
   "cell_type": "code",
   "execution_count": 4,
   "metadata": {},
   "outputs": [
    {
     "data": {
      "text/plain": [
       "array([[1., 2., 3.],\n",
       "       [1., 2., 3.],\n",
       "       [1., 2., 3.]])"
      ]
     },
     "execution_count": 4,
     "metadata": {},
     "output_type": "execute_result"
    }
   ],
   "source": [
    "arr + np.zeros((3,3))"
   ]
  },
  {
   "cell_type": "code",
   "execution_count": 5,
   "metadata": {},
   "outputs": [],
   "source": [
    "traindata = pd.read_csv(\"./train.csv\")"
   ]
  },
  {
   "cell_type": "code",
   "execution_count": 6,
   "metadata": {},
   "outputs": [],
   "source": [
    "testcolumns = []\n",
    "commoncolumns = []\n",
    "traincolumns = []\n",
    "for i in range(len(traindata.columns)):\n",
    "    if \"2019\" in traindata.columns[i] :\n",
    "        testcolumns.append(traindata.columns[i])\n",
    "    elif \"_2015\" in traindata.columns[i] :\n",
    "        continue\n",
    "    elif \"2015\" in traindata.columns[i] or \"2014\" in traindata.columns[i] :\n",
    "        traincolumns.append(traindata.columns[i])\n",
    "    else :\n",
    "        commoncolumns.append(traindata.columns[i])"
   ]
  },
  {
   "cell_type": "code",
   "execution_count": 7,
   "metadata": {},
   "outputs": [],
   "source": [
    "common = traindata[commoncolumns[:-1]]"
   ]
  },
  {
   "cell_type": "code",
   "execution_count": 8,
   "metadata": {},
   "outputs": [
    {
     "data": {
      "text/plain": [
       "['X', 'Y', 'elevation', 'LC_Type1_mode']"
      ]
     },
     "execution_count": 8,
     "metadata": {},
     "output_type": "execute_result"
    }
   ],
   "source": [
    "commoncolumns[:-1]"
   ]
  },
  {
   "cell_type": "code",
   "execution_count": 9,
   "metadata": {},
   "outputs": [
    {
     "data": {
      "text/plain": [
       "(16466, 4)"
      ]
     },
     "execution_count": 9,
     "metadata": {},
     "output_type": "execute_result"
    }
   ],
   "source": [
    "common.shape"
   ]
  },
  {
   "cell_type": "code",
   "execution_count": 10,
   "metadata": {},
   "outputs": [],
   "source": [
    "testdimension= common.to_numpy().reshape(len(common),1,4) + np.zeros((len(common),17,4))"
   ]
  },
  {
   "cell_type": "code",
   "execution_count": 11,
   "metadata": {},
   "outputs": [
    {
     "data": {
      "text/plain": [
       "X                 34.260000\n",
       "Y                -15.910000\n",
       "elevation        887.764222\n",
       "LC_Type1_mode      9.000000\n",
       "Name: 0, dtype: float64"
      ]
     },
     "execution_count": 11,
     "metadata": {},
     "output_type": "execute_result"
    }
   ],
   "source": [
    "common.iloc[0]"
   ]
  },
  {
   "cell_type": "code",
   "execution_count": 15,
   "metadata": {},
   "outputs": [
    {
     "data": {
      "text/plain": [
       "(16466, 17, 4)"
      ]
     },
     "execution_count": 15,
     "metadata": {},
     "output_type": "execute_result"
    }
   ],
   "source": [
    "testdimension.shape"
   ]
  },
  {
   "cell_type": "code",
   "execution_count": 19,
   "metadata": {},
   "outputs": [],
   "source": [
    "lstmcolumns = traindata[traincolumns]\n",
    "shapearr = lstmcolumns.to_numpy().reshape((len(lstmcolumns),17,1))"
   ]
  },
  {
   "cell_type": "code",
   "execution_count": 21,
   "metadata": {},
   "outputs": [],
   "source": [
    "con = np.concatenate((testdimension,shapearr),axis=2)"
   ]
  },
  {
   "cell_type": "code",
   "execution_count": 22,
   "metadata": {},
   "outputs": [
    {
     "data": {
      "text/plain": [
       "array([[ 34.26      , -15.91      , 887.76422198,   9.        ,\n",
       "          0.        ],\n",
       "       [ 34.26      , -15.91      , 887.76422198,   9.        ,\n",
       "          0.        ],\n",
       "       [ 34.26      , -15.91      , 887.76422198,   9.        ,\n",
       "          0.        ],\n",
       "       [ 34.26      , -15.91      , 887.76422198,   9.        ,\n",
       "         14.84402519],\n",
       "       [ 34.26      , -15.91      , 887.76422198,   9.        ,\n",
       "         14.55282307],\n",
       "       [ 34.26      , -15.91      , 887.76422198,   9.        ,\n",
       "         12.23776647],\n",
       "       [ 34.26      , -15.91      , 887.76422198,   9.        ,\n",
       "         57.45136064],\n",
       "       [ 34.26      , -15.91      , 887.76422198,   9.        ,\n",
       "         30.12704715],\n",
       "       [ 34.26      , -15.91      , 887.76422198,   9.        ,\n",
       "         30.44946781],\n",
       "       [ 34.26      , -15.91      , 887.76422198,   9.        ,\n",
       "          1.5218285 ],\n",
       "       [ 34.26      , -15.91      , 887.76422198,   9.        ,\n",
       "         29.3899954 ],\n",
       "       [ 34.26      , -15.91      , 887.76422198,   9.        ,\n",
       "         32.87831804],\n",
       "       [ 34.26      , -15.91      , 887.76422198,   9.        ,\n",
       "          8.17980389],\n",
       "       [ 34.26      , -15.91      , 887.76422198,   9.        ,\n",
       "          0.96398142],\n",
       "       [ 34.26      , -15.91      , 887.76422198,   9.        ,\n",
       "         16.65909675],\n",
       "       [ 34.26      , -15.91      , 887.76422198,   9.        ,\n",
       "          3.30446616],\n",
       "       [ 34.26      , -15.91      , 887.76422198,   9.        ,\n",
       "          0.        ]])"
      ]
     },
     "execution_count": 22,
     "metadata": {},
     "output_type": "execute_result"
    }
   ],
   "source": [
    "con[0]"
   ]
  }
 ],
 "metadata": {
  "kernelspec": {
   "display_name": "Python 3",
   "language": "python",
   "name": "python3"
  },
  "language_info": {
   "codemirror_mode": {
    "name": "ipython",
    "version": 3
   },
   "file_extension": ".py",
   "mimetype": "text/x-python",
   "name": "python",
   "nbconvert_exporter": "python",
   "pygments_lexer": "ipython3",
   "version": "3.7.4"
  }
 },
 "nbformat": 4,
 "nbformat_minor": 2
}
